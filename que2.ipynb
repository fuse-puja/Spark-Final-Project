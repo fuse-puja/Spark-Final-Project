{
 "cells": [
  {
   "cell_type": "code",
   "execution_count": 1,
   "metadata": {},
   "outputs": [],
   "source": [
    "# Import necessary libraries and initialize a SparkSession\n",
    "from pyspark.sql import SparkSession"
   ]
  },
  {
   "cell_type": "code",
   "execution_count": 2,
   "metadata": {},
   "outputs": [
    {
     "name": "stderr",
     "output_type": "stream",
     "text": [
      "Setting default log level to \"WARN\".\n",
      "To adjust logging level use sc.setLogLevel(newLevel). For SparkR, use setLogLevel(newLevel).\n",
      "23/09/12 11:26:16 WARN NativeCodeLoader: Unable to load native-hadoop library for your platform... using builtin-java classes where applicable\n"
     ]
    }
   ],
   "source": [
    "# Initialize a Spark session\n",
    "spark = SparkSession.builder.appName(\"Question_2\").getOrCreate()"
   ]
  },
  {
   "cell_type": "code",
   "execution_count": 3,
   "metadata": {},
   "outputs": [
    {
     "name": "stderr",
     "output_type": "stream",
     "text": [
      "                                                                                \r"
     ]
    }
   ],
   "source": [
    "# Load the necessary datasets\n",
    "reviews_df = spark.read.csv(\"Data/reviews_translated.csv\", header=True, inferSchema=True)\n",
    "order_item_df = spark.read.csv(\"Data/olist_order_items_dataset.csv\", header=True, inferSchema=True)\n",
    "product_df = spark.read.csv(\"Data/olist_products_dataset.csv\", header=True, inferSchema=True)"
   ]
  },
  {
   "cell_type": "code",
   "execution_count": 4,
   "metadata": {},
   "outputs": [
    {
     "name": "stdout",
     "output_type": "stream",
     "text": [
      "+---+--------------------+--------------------+------------+--------------------+----------------------+--------------------+-----------------------+\n",
      "|_c0|           review_id|            order_id|review_score|review_comment_title|review_comment_message|review_creation_date|review_answer_timestamp|\n",
      "+---+--------------------+--------------------+------------+--------------------+----------------------+--------------------+-----------------------+\n",
      "|  0|7bc2406110b926393...|73fc7af87114b3971...|           4|                null|                  null| 2018-01-18 00:00:00|    2018-01-18 21:46:59|\n",
      "|  1|80e641a11e56f04c1...|a548910a1c6147796...|           5|                null|                  null| 2018-03-10 00:00:00|    2018-03-11 03:05:13|\n",
      "|  2|228ce5500dc1d8e02...|f9e4b658b201a9f2e...|           5|                null|                  null| 2018-02-17 00:00:00|    2018-02-18 14:36:24|\n",
      "|  3|e64fb393e7b32834b...|658677c97b385a9be...|           5|                null|  I received it wel...| 2017-04-21 00:00:00|    2017-04-21 22:02:06|\n",
      "|  4|f7c4243c7fe1938f1...|8e6bfb81e283fa7e4...|           5|                null|  Congratulations L...| 2018-03-01 00:00:00|    2018-03-02 10:26:53|\n",
      "|  5|15197aa66ff4d0650...|b18dcdf73be663668...|           1|                null|                  null| 2018-04-13 00:00:00|    2018-04-16 00:39:37|\n",
      "|  6|07f9bee5d1b850860...|e48aa0d2dcec3a2e8...|           5|                null|                  null| 2017-07-16 00:00:00|    2017-07-18 19:30:34|\n",
      "|  7|7c6400515c67679fb...|c31a859e34e3adac2...|           5|                null|                  null| 2018-08-14 00:00:00|    2018-08-14 21:36:06|\n",
      "|  8|a3f6f7f6f433de0ae...|9c214ac970e842735...|           5|                null|                  null| 2017-05-17 00:00:00|    2017-05-18 12:05:37|\n",
      "|  9|8670d52e15e00043a...|b9bf720beb4ab3728...|           4|         I recommend|  efficient device....| 2018-05-22 00:00:00|    2018-05-23 16:45:47|\n",
      "| 10|c9cfd2d5ab5911836...|cdf9aa68e72324eeb...|           5|                null|                  null| 2017-12-23 00:00:00|    2017-12-26 14:36:03|\n",
      "| 11|96052551d87e5f62e...|3d374c9e46530bb5e...|           5|                null|                  null| 2017-12-19 00:00:00|    2017-12-20 10:25:22|\n",
      "| 12|4b49719c8a200003f...|9d6f15f95d01e79bd...|           4|                null|  But a little slow...| 2018-02-16 00:00:00|    2018-02-20 10:52:22|\n",
      "| 13|23f75a37effc35d9a...|2eaf8e099d871cd5c...|           4|                null|                  null| 2018-03-28 00:00:00|    2018-03-30 15:10:55|\n",
      "| 14|9a0abbb668bafb95a...|d7bd0e4afdf94846e...|           3|                null|                  null| 2017-04-30 00:00:00|    2017-05-03 00:02:22|\n",
      "| 15|3948b09f7c818e2d8...|e51478e7e277a8374...|           5|    highly recommend|  Reliable seller, ...| 2018-05-23 00:00:00|    2018-05-24 03:00:01|\n",
      "| 16|9314d6f9799f5bfba...|0dacf04c5ad59fd5a...|           2|                null|  I WOULD LIKE TO K...| 2018-01-18 00:00:00|    2018-01-20 21:25:45|\n",
      "| 17|8e15a274d95600fa1...|ff1581e08b3011021...|           5|                null|                  null| 2018-03-24 00:00:00|    2018-03-26 15:58:32|\n",
      "| 18|fdbdb2629a7cde0f6...|70a752414a13d09cc...|           3|                null|                  null| 2017-09-29 00:00:00|    2017-10-02 01:12:49|\n",
      "| 19|373cbeecea8286a2b...|583174fbe37d3d5f0...|           1|My product did no...|              Terrible| 2018-08-15 00:00:00|    2018-08-15 04:10:37|\n",
      "+---+--------------------+--------------------+------------+--------------------+----------------------+--------------------+-----------------------+\n",
      "only showing top 20 rows\n",
      "\n"
     ]
    },
    {
     "name": "stderr",
     "output_type": "stream",
     "text": [
      "23/09/12 11:26:27 WARN CSVHeaderChecker: CSV header does not conform to the schema.\n",
      " Header: , review_id, order_id, review_score, review_comment_title, review_comment_message, review_creation_date, review_answer_timestamp\n",
      " Schema: _c0, review_id, order_id, review_score, review_comment_title, review_comment_message, review_creation_date, review_answer_timestamp\n",
      "Expected: _c0 but found: \n",
      "CSV file: file:///home/user/Documents/Fusemachines/Spark_FInal_Projetc/Data/reviews_translated.csv\n"
     ]
    }
   ],
   "source": [
    "reviews_df.show()"
   ]
  },
  {
   "cell_type": "code",
   "execution_count": 5,
   "metadata": {},
   "outputs": [
    {
     "name": "stdout",
     "output_type": "stream",
     "text": [
      "root\n",
      " |-- _c0: string (nullable = true)\n",
      " |-- review_id: string (nullable = true)\n",
      " |-- order_id: string (nullable = true)\n",
      " |-- review_score: string (nullable = true)\n",
      " |-- review_comment_title: string (nullable = true)\n",
      " |-- review_comment_message: string (nullable = true)\n",
      " |-- review_creation_date: string (nullable = true)\n",
      " |-- review_answer_timestamp: string (nullable = true)\n",
      "\n"
     ]
    }
   ],
   "source": [
    "reviews_df.printSchema()"
   ]
  },
  {
   "cell_type": "code",
   "execution_count": 6,
   "metadata": {},
   "outputs": [],
   "source": [
    "reviews_df=reviews_df.withColumn(\"review_score\", reviews_df[\"review_score\"].cast(\"int\"))"
   ]
  },
  {
   "cell_type": "code",
   "execution_count": 7,
   "metadata": {},
   "outputs": [
    {
     "name": "stdout",
     "output_type": "stream",
     "text": [
      "root\n",
      " |-- _c0: string (nullable = true)\n",
      " |-- review_id: string (nullable = true)\n",
      " |-- order_id: string (nullable = true)\n",
      " |-- review_score: integer (nullable = true)\n",
      " |-- review_comment_title: string (nullable = true)\n",
      " |-- review_comment_message: string (nullable = true)\n",
      " |-- review_creation_date: string (nullable = true)\n",
      " |-- review_answer_timestamp: string (nullable = true)\n",
      "\n"
     ]
    }
   ],
   "source": [
    "reviews_df.printSchema()"
   ]
  },
  {
   "cell_type": "code",
   "execution_count": 8,
   "metadata": {},
   "outputs": [],
   "source": [
    "from pyspark.sql import functions as f"
   ]
  },
  {
   "cell_type": "code",
   "execution_count": 11,
   "metadata": {},
   "outputs": [
    {
     "name": "stdout",
     "output_type": "stream",
     "text": [
      "Count of 'No comment': 61809\n"
     ]
    }
   ],
   "source": [
    "count_no_comment = reviews_df.filter(f.col(\"review_comment_message\") == \"no comment\").count()\n",
    "\n",
    "print(\"Count of 'No comment':\", count_no_comment)"
   ]
  },
  {
   "cell_type": "code",
   "execution_count": 12,
   "metadata": {},
   "outputs": [
    {
     "name": "stdout",
     "output_type": "stream",
     "text": [
      "102785\n"
     ]
    }
   ],
   "source": [
    "print(reviews_df.count())"
   ]
  },
  {
   "cell_type": "code",
   "execution_count": 13,
   "metadata": {},
   "outputs": [
    {
     "name": "stderr",
     "output_type": "stream",
     "text": [
      "23/09/12 11:27:00 WARN CSVHeaderChecker: CSV header does not conform to the schema.\n",
      " Header: , review_id, order_id, review_score, review_comment_title, review_comment_message, review_creation_date, review_answer_timestamp\n",
      " Schema: _c0, review_id, order_id, review_score, review_comment_title, review_comment_message, review_creation_date, review_answer_timestamp\n",
      "Expected: _c0 but found: \n",
      "CSV file: file:///home/user/Documents/Fusemachines/Spark_FInal_Projetc/Data/reviews_translated.csv\n"
     ]
    },
    {
     "name": "stdout",
     "output_type": "stream",
     "text": [
      "96515\n"
     ]
    }
   ],
   "source": [
    "reviews_df =reviews_df.na.drop()\n",
    "print(reviews_df.count())"
   ]
  },
  {
   "cell_type": "code",
   "execution_count": 14,
   "metadata": {},
   "outputs": [
    {
     "name": "stderr",
     "output_type": "stream",
     "text": [
      "23/09/12 11:27:02 WARN CSVHeaderChecker: CSV header does not conform to the schema.\n",
      " Header: , review_id, order_id, review_score, review_comment_title, review_comment_message, review_creation_date, review_answer_timestamp\n",
      " Schema: _c0, review_id, order_id, review_score, review_comment_title, review_comment_message, review_creation_date, review_answer_timestamp\n",
      "Expected: _c0 but found: \n",
      "CSV file: file:///home/user/Documents/Fusemachines/Spark_FInal_Projetc/Data/reviews_translated.csv\n"
     ]
    },
    {
     "name": "stdout",
     "output_type": "stream",
     "text": [
      "Count of 'No comment': 58274\n"
     ]
    }
   ],
   "source": [
    "count_no_comment = reviews_df.filter(f.col(\"review_comment_message\") == \"no comment\").count()\n",
    "\n",
    "print(\"Count of 'No comment':\", count_no_comment)"
   ]
  },
  {
   "cell_type": "code",
   "execution_count": 15,
   "metadata": {},
   "outputs": [
    {
     "name": "stderr",
     "output_type": "stream",
     "text": [
      "23/09/12 11:27:04 WARN CSVHeaderChecker: CSV header does not conform to the schema.\n",
      " Header: , review_id, order_id, review_score, review_comment_title, review_comment_message, review_creation_date, review_answer_timestamp\n",
      " Schema: _c0, review_id, order_id, review_score, review_comment_title, review_comment_message, review_creation_date, review_answer_timestamp\n",
      "Expected: _c0 but found: \n",
      "CSV file: file:///home/user/Documents/Fusemachines/Spark_FInal_Projetc/Data/reviews_translated.csv\n",
      "[Stage 23:==============>                                           (1 + 3) / 4]\r"
     ]
    },
    {
     "name": "stdout",
     "output_type": "stream",
     "text": [
      "+---+---------+--------+------------+--------------------+----------------------+--------------------+-----------------------+\n",
      "|_c0|review_id|order_id|review_score|review_comment_title|review_comment_message|review_creation_date|review_answer_timestamp|\n",
      "+---+---------+--------+------------+--------------------+----------------------+--------------------+-----------------------+\n",
      "|  0|        0|       0|           0|                   0|                     0|                   0|                      0|\n",
      "+---+---------+--------+------------+--------------------+----------------------+--------------------+-----------------------+\n",
      "\n"
     ]
    },
    {
     "name": "stderr",
     "output_type": "stream",
     "text": [
      "                                                                                \r"
     ]
    }
   ],
   "source": [
    "reviews_df.select([f.count(f.when(f.isnan(c) | f.col(c).isNull(), c)).alias(c) for c in reviews_df.columns]\n",
    "   ).show()"
   ]
  },
  {
   "cell_type": "markdown",
   "metadata": {},
   "source": [
    "### Perform sentiment analysis on the comment"
   ]
  },
  {
   "cell_type": "code",
   "execution_count": 16,
   "metadata": {},
   "outputs": [],
   "source": [
    "from textblob import TextBlob\n",
    "from pyspark.sql.types import StringType"
   ]
  },
  {
   "cell_type": "code",
   "execution_count": 17,
   "metadata": {},
   "outputs": [],
   "source": [
    "def analyze_sentiment(text):\n",
    "    if text.lower() != \"no comment\":\n",
    "        analysis = TextBlob(text)\n",
    "        polarity = analysis.sentiment.polarity\n",
    "        return polarity\n",
    "    return None  # Return None for \"no comment\" comments"
   ]
  },
  {
   "cell_type": "code",
   "execution_count": 18,
   "metadata": {},
   "outputs": [],
   "source": [
    "sentiment_udf = f.udf(analyze_sentiment, StringType())"
   ]
  },
  {
   "cell_type": "code",
   "execution_count": 20,
   "metadata": {},
   "outputs": [
    {
     "name": "stderr",
     "output_type": "stream",
     "text": [
      "23/09/12 11:27:51 WARN CSVHeaderChecker: CSV header does not conform to the schema.\n",
      " Header: , review_id, order_id, review_score, review_comment_title, review_comment_message, review_creation_date, review_answer_timestamp\n",
      " Schema: _c0, review_id, order_id, review_score, review_comment_title, review_comment_message, review_creation_date, review_answer_timestamp\n",
      "Expected: _c0 but found: \n",
      "CSV file: file:///home/user/Documents/Fusemachines/Spark_FInal_Projetc/Data/reviews_translated.csv\n",
      "[Stage 27:>                                                         (0 + 1) / 1]\r"
     ]
    },
    {
     "name": "stdout",
     "output_type": "stream",
     "text": [
      "+---+--------------------+--------------------+------------+--------------------+----------------------+--------------------+-----------------------+---------------+\n",
      "|_c0|           review_id|            order_id|review_score|review_comment_title|review_comment_message|review_creation_date|review_answer_timestamp|sentiment_score|\n",
      "+---+--------------------+--------------------+------------+--------------------+----------------------+--------------------+-----------------------+---------------+\n",
      "|  3|e64fb393e7b32834b...|658677c97b385a9be...|           5|          no comment|  I received it wel...| 2017-04-21 00:00:00|    2017-04-21 22:02:06|            0.0|\n",
      "|  4|f7c4243c7fe1938f1...|8e6bfb81e283fa7e4...|           5|          no comment|  Congratulations L...| 2018-03-01 00:00:00|    2018-03-02 10:26:53|      0.6666667|\n",
      "|  9|8670d52e15e00043a...|b9bf720beb4ab3728...|           4|         I recommend|  efficient device....| 2018-05-22 00:00:00|    2018-05-23 16:45:47|            0.0|\n",
      "| 12|4b49719c8a200003f...|9d6f15f95d01e79bd...|           4|          no comment|  But a little slow...| 2018-02-16 00:00:00|    2018-02-20 10:52:22|        0.25625|\n",
      "| 15|3948b09f7c818e2d8...|e51478e7e277a8374...|           5|    highly recommend|  Reliable seller, ...| 2018-05-23 00:00:00|    2018-05-24 03:00:01|            0.5|\n",
      "| 16|9314d6f9799f5bfba...|0dacf04c5ad59fd5a...|           2|          no comment|  I WOULD LIKE TO K...| 2018-01-18 00:00:00|    2018-01-20 21:25:45|          -0.75|\n",
      "| 19|373cbeecea8286a2b...|583174fbe37d3d5f0...|           1|My product did no...|              Terrible| 2018-08-15 00:00:00|    2018-08-15 04:10:37|           -1.0|\n",
      "| 22|d21bbc789670eab77...|4fc44d78867142c62...|           5|           Excellent|         store note 10| 2018-07-10 00:00:00|    2018-07-11 14:10:25|            0.0|\n",
      "| 24|0e0190b9db53b689b...|79832b7cb59ac6f88...|           5|          no comment|  thanks for the at...| 2017-12-01 00:00:00|    2017-12-09 22:58:58|            0.2|\n",
      "| 28|e07eee7ad7666276b...|68b3cbc68e4cd1fe1...|           5|          no comment|  very nice and che...| 2018-03-29 00:00:00|    2018-04-02 14:19:31|           0.59|\n",
      "| 29|2c5e27fc178bde7ac...|0ce9a24111d850192...|           1|          no comment|  Did not like ! I ...| 2017-12-13 00:00:00|    2017-12-16 07:14:07|            0.0|\n",
      "| 32|58044bca115705a48...|68e55ca79d04a79f2...|           1|          no comment|  I always buy onli...| 2018-04-08 00:00:00|    2018-04-09 12:22:39|           -0.2|\n",
      "| 34|c92cdd7dd544a01aa...|37e7875cdce5a9e5b...|           4|          Very good.|  I received exactl...| 2018-06-07 00:00:00|    2018-06-09 18:44:02|          -0.08|\n",
      "| 36|08c9d79ec0eba1d25...|e029f708df3cc108b...|           5|                 Bom|         I recommend ,| 2018-06-13 00:00:00|    2018-06-13 22:54:44|            0.0|\n",
      "| 37|2170c9452c2216457...|af32671d0b8ce510a...|           5|          no comment|             very good| 2018-03-22 00:00:00|    2018-03-30 23:37:25|           0.91|\n",
      "| 38|b193ff3c9f32a01f3...|e2e6ee1ed2d7f2f36...|           5|          Wonderful!|  I'm completely in...| 2018-08-10 00:00:00|    2018-08-11 00:22:13|      0.3611111|\n",
      "| 39|9fd59cd04b42f600d...|3c314f50bc654f3c4...|           1|          no comment|  None of my order ...| 2017-04-21 00:00:00|    2017-04-23 05:37:03|            0.0|\n",
      "| 43|86c5cfa7fcbde303f...|a6456e781cb962cc3...|           5|    perfect delivery|  Very good. very f...| 2018-06-13 00:00:00|    2018-06-14 17:29:03|          0.555|\n",
      "| 47|890ec1767be8eb104...|b3271f5ebce80cbec...|           5|          no comment|  great seller arri...| 2017-05-13 00:00:00|    2017-05-14 02:57:19|           0.75|\n",
      "| 49|7d9ac3e98adc0c8ad...|dfa48852c93427261...|           5|          no comment|  Smooth and effici...| 2018-04-24 00:00:00|    2018-04-25 16:01:03|            0.4|\n",
      "+---+--------------------+--------------------+------------+--------------------+----------------------+--------------------+-----------------------+---------------+\n",
      "only showing top 20 rows\n",
      "\n",
      "root\n",
      " |-- _c0: string (nullable = true)\n",
      " |-- review_id: string (nullable = true)\n",
      " |-- order_id: string (nullable = true)\n",
      " |-- review_score: integer (nullable = true)\n",
      " |-- review_comment_title: string (nullable = false)\n",
      " |-- review_comment_message: string (nullable = false)\n",
      " |-- review_creation_date: string (nullable = true)\n",
      " |-- review_answer_timestamp: string (nullable = true)\n",
      " |-- sentiment_score: float (nullable = true)\n",
      "\n"
     ]
    },
    {
     "name": "stderr",
     "output_type": "stream",
     "text": [
      "                                                                                \r"
     ]
    }
   ],
   "source": [
    "reviews_df = reviews_df.withColumn(\"sentiment_score\", sentiment_udf(reviews_df[\"review_comment_message\"]))\n",
    "# reviews_df.show()\n",
    "reviews_df=reviews_df.withColumn(\"sentiment_score\", reviews_df[\"sentiment_score\"].cast(\"float\"))\n",
    "# Filter out rows with sentiment scores (exclude \"no comment\" comments)\n",
    "filtered_reviews_df = reviews_df.filter(reviews_df[\"sentiment_score\"].isNotNull())\n",
    "\n",
    "# Show the filtered DataFrame with sentiment scores\n",
    "filtered_reviews_df.show()\n",
    "filtered_reviews_df.printSchema()"
   ]
  },
  {
   "cell_type": "code",
   "execution_count": 21,
   "metadata": {},
   "outputs": [
    {
     "name": "stderr",
     "output_type": "stream",
     "text": [
      "23/09/12 11:28:07 WARN CSVHeaderChecker: CSV header does not conform to the schema.\n",
      " Header: , review_id, order_id, review_score, review_comment_title, review_comment_message, review_creation_date, review_answer_timestamp\n",
      " Schema: _c0, review_id, order_id, review_score, review_comment_title, review_comment_message, review_creation_date, review_answer_timestamp\n",
      "Expected: _c0 but found: \n",
      "CSV file: file:///home/user/Documents/Fusemachines/Spark_FInal_Projetc/Data/reviews_translated.csv\n",
      "[Stage 28:===========================================>              (3 + 1) / 4]\r"
     ]
    },
    {
     "name": "stdout",
     "output_type": "stream",
     "text": [
      "Correlation between sentiment_score and review_score: 0.536884175049079\n"
     ]
    },
    {
     "name": "stderr",
     "output_type": "stream",
     "text": [
      "                                                                                \r"
     ]
    }
   ],
   "source": [
    "correlation = filtered_reviews_df.select(f.corr(\"sentiment_score\", \"review_score\")).first()[0]\n",
    "print(\"Correlation between sentiment_score and review_score:\", correlation)"
   ]
  },
  {
   "cell_type": "code",
   "execution_count": 22,
   "metadata": {},
   "outputs": [
    {
     "name": "stdout",
     "output_type": "stream",
     "text": [
      "root\n",
      " |-- _c0: string (nullable = true)\n",
      " |-- review_id: string (nullable = true)\n",
      " |-- order_id: string (nullable = true)\n",
      " |-- review_score: integer (nullable = true)\n",
      " |-- review_comment_title: string (nullable = false)\n",
      " |-- review_comment_message: string (nullable = false)\n",
      " |-- review_creation_date: string (nullable = true)\n",
      " |-- review_answer_timestamp: string (nullable = true)\n",
      " |-- sentiment_score: float (nullable = true)\n",
      "\n"
     ]
    }
   ],
   "source": [
    "filtered_reviews_df.printSchema()"
   ]
  },
  {
   "cell_type": "code",
   "execution_count": 26,
   "metadata": {},
   "outputs": [
    {
     "name": "stderr",
     "output_type": "stream",
     "text": [
      "23/09/12 11:29:19 WARN CSVHeaderChecker: CSV header does not conform to the schema.\n",
      " Header: , review_id, order_id, review_score, review_comment_title, review_comment_message, review_creation_date, review_answer_timestamp\n",
      " Schema: _c0, review_id, order_id, review_score, review_comment_title, review_comment_message, review_creation_date, review_answer_timestamp\n",
      "Expected: _c0 but found: \n",
      "CSV file: file:///home/user/Documents/Fusemachines/Spark_FInal_Projetc/Data/reviews_translated.csv\n",
      "                                                                                \r"
     ]
    },
    {
     "name": "stdout",
     "output_type": "stream",
     "text": [
      "+--------------------+--------------------+------------+----------------------+---------------------+---------------+\n",
      "|            order_id|           review_id|review_score|review_comment_message|product_category_name|sentiment_score|\n",
      "+--------------------+--------------------+------------+----------------------+---------------------+---------------+\n",
      "|00010242fe8c5a6d1...|97ca439bc427b48bc...|           5|  Perfect, product ...|           cool_stuff|            1.0|\n",
      "|000229ec398224ef6...|0c5b33dea94867d1a...|           5|  It arrived ahead ...|     moveis_decoracao|          0.375|\n",
      "|00042b26cf59d7ce6...|940144190dcba6351...|           5|  I liked it becaus...|   ferramentas_jardim|            0.6|\n",
      "|00061f2a7bc09da83...|7e92c32ae297ef950...|           5|  The product box c...|         beleza_saude|        0.40625|\n",
      "|00063b381e2406b52...|5595c192e3c1566ab...|           5|  I was a little sa...| fashion_bolsas_e_...|      -0.246875|\n",
      "|0006ec9db01a64e59...|6322c405c0f34bf3a...|           5|  Excellent online ...|      cama_mesa_banho|            1.0|\n",
      "|000c3e6612759851c...|51b9186876d4708a9...|           5|  I received everyt...|        esporte_lazer|     0.35714287|\n",
      "|000e562887b1f2006...|3b9a423bdbe8734dd...|           3|          Good product|           cool_stuff|            0.7|\n",
      "|000e63d38ae8c00bb...|06f45fcd8b9b54c30...|           3|                     5|      cama_mesa_banho|            0.0|\n",
      "|001021efaa8636c29...|fa2d523cc60173d48...|           4|      highly recommend| fashion_bolsas_e_...|           0.16|\n",
      "|00119ff934e539cf2...|e79b1300216401c02...|           5|  I received the lo...|        esporte_lazer|         0.6875|\n",
      "|00125cb692d048878...|08af1a16cca5edd54...|           5|  product as descri...|     moveis_decoracao|           0.65|\n",
      "|00130c0eee84a3d90...|4ff9a24999699f710...|           5|  Product delivered...|            alimentos|     0.28666666|\n",
      "|00169e31ef4b29dea...|28e20f3ef22e8795e...|           1|  Delivery too long...|      cama_mesa_banho|          -0.05|\n",
      "|001862358bf858722...|164fba09ca80765e4...|           5|  I love it, buy it...|           cool_stuff|          0.625|\n",
      "|0019c29108428acff...|1e8067a9f38deb942...|           5|       Actual product.|     moveis_decoracao|            0.0|\n",
      "|001ab0a7578dd66cd...|68b49cfcd9420c6ad...|           4|  Fast delivery sho...|          eletronicos|        0.01875|\n",
      "|001ab0a7578dd66cd...|68b49cfcd9420c6ad...|           4|  Fast delivery sho...|          eletronicos|        0.01875|\n",
      "|001ab0a7578dd66cd...|68b49cfcd9420c6ad...|           4|  Fast delivery sho...|          eletronicos|        0.01875|\n",
      "|001ac194d4a326a6f...|95ae5c0c6595c9f75...|           5|     Delivered on time| construcao_ferram...|            0.0|\n",
      "+--------------------+--------------------+------------+----------------------+---------------------+---------------+\n",
      "only showing top 20 rows\n",
      "\n"
     ]
    }
   ],
   "source": [
    "results_df = filtered_reviews_df.join(order_item_df, \"order_id\", \"inner\")\n",
    "joined_df= results_df.join(product_df, \"product_id\", \"inner\")\n",
    "joined_df = joined_df.select(\"order_id\", \"review_id\",\"review_score\", \"review_comment_message\",\"product_category_name\",\"sentiment_score\")\n",
    "\n",
    "joined_df.show()"
   ]
  },
  {
   "cell_type": "code",
   "execution_count": 24,
   "metadata": {},
   "outputs": [
    {
     "name": "stderr",
     "output_type": "stream",
     "text": [
      "23/09/12 11:28:31 WARN CSVHeaderChecker: CSV header does not conform to the schema.\n",
      " Header: , review_id, order_id, review_score, review_comment_title, review_comment_message, review_creation_date, review_answer_timestamp\n",
      " Schema: _c0, review_id, order_id, review_score, review_comment_title, review_comment_message, review_creation_date, review_answer_timestamp\n",
      "Expected: _c0 but found: \n",
      "CSV file: file:///home/user/Documents/Fusemachines/Spark_FInal_Projetc/Data/reviews_translated.csv\n",
      "                                                                                \r"
     ]
    },
    {
     "name": "stdout",
     "output_type": "stream",
     "text": [
      "+--------------------+--------------------+----------------------+---------------------+---------------+---------+\n",
      "|            order_id|           review_id|review_comment_message|product_category_name|sentiment_score|sentiment|\n",
      "+--------------------+--------------------+----------------------+---------------------+---------------+---------+\n",
      "|00010242fe8c5a6d1...|97ca439bc427b48bc...|  Perfect, product ...|           cool_stuff|            1.0| positive|\n",
      "|000229ec398224ef6...|0c5b33dea94867d1a...|  It arrived ahead ...|     moveis_decoracao|          0.375| positive|\n",
      "|00042b26cf59d7ce6...|940144190dcba6351...|  I liked it becaus...|   ferramentas_jardim|            0.6| positive|\n",
      "|00061f2a7bc09da83...|7e92c32ae297ef950...|  The product box c...|         beleza_saude|        0.40625| positive|\n",
      "|00063b381e2406b52...|5595c192e3c1566ab...|  I was a little sa...| fashion_bolsas_e_...|      -0.246875| negative|\n",
      "|0006ec9db01a64e59...|6322c405c0f34bf3a...|  Excellent online ...|      cama_mesa_banho|            1.0| positive|\n",
      "|000c3e6612759851c...|51b9186876d4708a9...|  I received everyt...|        esporte_lazer|     0.35714287| positive|\n",
      "|000e562887b1f2006...|3b9a423bdbe8734dd...|          Good product|           cool_stuff|            0.7| positive|\n",
      "|000e63d38ae8c00bb...|06f45fcd8b9b54c30...|                     5|      cama_mesa_banho|            0.0|  neutral|\n",
      "|001021efaa8636c29...|fa2d523cc60173d48...|      highly recommend| fashion_bolsas_e_...|           0.16| positive|\n",
      "|00119ff934e539cf2...|e79b1300216401c02...|  I received the lo...|        esporte_lazer|         0.6875| positive|\n",
      "|00125cb692d048878...|08af1a16cca5edd54...|  product as descri...|     moveis_decoracao|           0.65| positive|\n",
      "|00130c0eee84a3d90...|4ff9a24999699f710...|  Product delivered...|            alimentos|     0.28666666| positive|\n",
      "|00169e31ef4b29dea...|28e20f3ef22e8795e...|  Delivery too long...|      cama_mesa_banho|          -0.05| negative|\n",
      "|001862358bf858722...|164fba09ca80765e4...|  I love it, buy it...|           cool_stuff|          0.625| positive|\n",
      "|0019c29108428acff...|1e8067a9f38deb942...|       Actual product.|     moveis_decoracao|            0.0|  neutral|\n",
      "|001ab0a7578dd66cd...|68b49cfcd9420c6ad...|  Fast delivery sho...|          eletronicos|        0.01875| positive|\n",
      "|001ab0a7578dd66cd...|68b49cfcd9420c6ad...|  Fast delivery sho...|          eletronicos|        0.01875| positive|\n",
      "|001ab0a7578dd66cd...|68b49cfcd9420c6ad...|  Fast delivery sho...|          eletronicos|        0.01875| positive|\n",
      "|001ac194d4a326a6f...|95ae5c0c6595c9f75...|     Delivered on time| construcao_ferram...|            0.0|  neutral|\n",
      "+--------------------+--------------------+----------------------+---------------------+---------------+---------+\n",
      "only showing top 20 rows\n",
      "\n"
     ]
    }
   ],
   "source": [
    "\n",
    "\n",
    "joined_df = joined_df.withColumn(\n",
    "    \"sentiment\",\n",
    "    f.when(joined_df[\"sentiment_score\"] > 0, \"positive\")\n",
    "    .when(joined_df[\"sentiment_score\"] == 0, \"neutral\")\n",
    "    .otherwise(\"negative\")\n",
    ")\n",
    "\n",
    "joined_df.show()\n"
   ]
  },
  {
   "cell_type": "code",
   "execution_count": 25,
   "metadata": {},
   "outputs": [
    {
     "name": "stderr",
     "output_type": "stream",
     "text": [
      "23/09/12 11:28:46 WARN CSVHeaderChecker: CSV header does not conform to the schema.\n",
      " Header: , review_id, order_id, review_score, review_comment_title, review_comment_message, review_creation_date, review_answer_timestamp\n",
      " Schema: _c0, review_id, order_id, review_score, review_comment_title, review_comment_message, review_creation_date, review_answer_timestamp\n",
      "Expected: _c0 but found: \n",
      "CSV file: file:///home/user/Documents/Fusemachines/Spark_FInal_Projetc/Data/reviews_translated.csv\n",
      "                                                                                \r"
     ]
    },
    {
     "name": "stdout",
     "output_type": "stream",
     "text": [
      "+--------+---------+----------------------+---------------------+---------------+---------+\n",
      "|order_id|review_id|review_comment_message|product_category_name|sentiment_score|sentiment|\n",
      "+--------+---------+----------------------+---------------------+---------------+---------+\n",
      "|       0|        0|                     0|                  653|              0|        0|\n",
      "+--------+---------+----------------------+---------------------+---------------+---------+\n",
      "\n"
     ]
    },
    {
     "name": "stderr",
     "output_type": "stream",
     "text": [
      "                                                                                \r"
     ]
    }
   ],
   "source": [
    "joined_df.select([f.count(f.when(f.isnan(c) | f.col(c).isNull(), c)).alias(c) for c in joined_df.columns]).show()"
   ]
  }
 ],
 "metadata": {
  "kernelspec": {
   "display_name": "venv_1",
   "language": "python",
   "name": "venv_1"
  },
  "language_info": {
   "codemirror_mode": {
    "name": "ipython",
    "version": 3
   },
   "file_extension": ".py",
   "mimetype": "text/x-python",
   "name": "python",
   "nbconvert_exporter": "python",
   "pygments_lexer": "ipython3",
   "version": "3.10.12"
  },
  "orig_nbformat": 4
 },
 "nbformat": 4,
 "nbformat_minor": 2
}
