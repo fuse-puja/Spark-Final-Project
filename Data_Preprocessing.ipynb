{
 "cells": [
  {
   "cell_type": "markdown",
   "metadata": {},
   "source": [
    "# Data Analysis on Brazilian E-Commerce Public Dataset by Olist"
   ]
  },
  {
   "cell_type": "markdown",
   "metadata": {},
   "source": [
    "Dataset link: https://www.kaggle.com/datasets/olistbr/brazilian-ecommerce?select=olist_customers_dataset.csv"
   ]
  },
  {
   "cell_type": "code",
   "execution_count": 2,
   "metadata": {},
   "outputs": [
    {
     "name": "stderr",
     "output_type": "stream",
     "text": [
      "Setting default log level to \"WARN\".\n",
      "To adjust logging level use sc.setLogLevel(newLevel). For SparkR, use setLogLevel(newLevel).\n",
      "23/09/12 15:36:14 WARN NativeCodeLoader: Unable to load native-hadoop library for your platform... using builtin-java classes where applicable\n"
     ]
    }
   ],
   "source": [
    "from pyspark.sql import SparkSession\n",
    "\n",
    "spark = SparkSession.builder.appName(\"FinalProject\")\\\n",
    "        .config('spark.driver.extraClassPath','/usr/lib/jvm/java-11-openjdk-amd64/lib/postgresql-42.6.0.jar')\\\n",
    "        .getOrCreate()"
   ]
  },
  {
   "cell_type": "markdown",
   "metadata": {},
   "source": [
    "# Loading the dataset"
   ]
  },
  {
   "cell_type": "code",
   "execution_count": 3,
   "metadata": {},
   "outputs": [
    {
     "name": "stderr",
     "output_type": "stream",
     "text": [
      "                                                                                \r"
     ]
    }
   ],
   "source": [
    "# Defining path to the dataset\n",
    "customer_data_path = \"./Data/olist_customers_dataset.csv\"  \n",
    "order_item_path = \"./Data/olist_order_items_dataset.csv\"\n",
    "order_payment_path = \"./Data/olist_order_payments_dataset.csv\"\n",
    "product_category_translation_path= \"./Data/product_category_name_translation.csv\"\n",
    "product_path = './Data/olist_products_dataset.csv'\n",
    "seller_path = './Data/olist_sellers_dataset.csv'\n",
    "orders_path = './Data/olist_orders_dataset.csv'\n",
    "review_path = \"Data/reviews_translated.csv\"  \n",
    "\n",
    "\n",
    "# Load the Chipotle dataset into a Spark DataFrame\n",
    "customer_df = spark.read.csv(customer_data_path, header=True, inferSchema=True)\n",
    "order_item_df = spark.read.csv(order_item_path, header=True, inferSchema=True)\n",
    "order_payment_df = spark.read.csv(order_payment_path, header=True, inferSchema=True)\n",
    "product_category_translation_df = spark.read.csv(product_category_translation_path, header=True, inferSchema=True)\n",
    "seller_df_uncleaned = spark.read.csv(seller_path, header=True, inferSchema=True)\n",
    "product_df_uncleaned = spark.read.csv(product_path, header=True, inferSchema=True)\n",
    "orders_df = spark.read.csv(orders_path, header=True, inferSchema= True)\n",
    "reviews_df = spark.read.csv(review_path, header=True, inferSchema= True)"
   ]
  },
  {
   "cell_type": "markdown",
   "metadata": {},
   "source": [
    "# Data Cleaning and pre-processing"
   ]
  },
  {
   "cell_type": "code",
   "execution_count": 4,
   "metadata": {},
   "outputs": [],
   "source": [
    "from pyspark.sql import functions as f"
   ]
  },
  {
   "cell_type": "markdown",
   "metadata": {},
   "source": [
    "### Removing whitespace  "
   ]
  },
  {
   "cell_type": "code",
   "execution_count": 5,
   "metadata": {},
   "outputs": [],
   "source": [
    "# Remove leading and trailing whitespace from all columns\n",
    "seller_df_uncleaned.select([f.trim(f.col(c)).alias(c) for c in seller_df_uncleaned.columns])\n",
    "\n",
    "# Remove whitespace characters between words in all columns\n",
    "seller_df = seller_df_uncleaned.select([f.regexp_replace(f.col(c), r'\\s+', ' ').alias(c) for c in seller_df_uncleaned.columns])\n"
   ]
  },
  {
   "cell_type": "markdown",
   "metadata": {},
   "source": [
    "### Replacing column on product dataset with content from product category translation dataset"
   ]
  },
  {
   "cell_type": "code",
   "execution_count": 6,
   "metadata": {},
   "outputs": [
    {
     "name": "stdout",
     "output_type": "stream",
     "text": [
      "+--------------------+-------------------+--------------------------+------------------+----------------+-----------------+-----------------+----------------+---------------------+\n",
      "|          product_id|product_name_lenght|product_description_lenght|product_photos_qty|product_weight_g|product_length_cm|product_height_cm|product_width_cm|product_category_name|\n",
      "+--------------------+-------------------+--------------------------+------------------+----------------+-----------------+-----------------+----------------+---------------------+\n",
      "|1e9e8ef04dbcff454...|                 40|                       287|                 1|             225|               16|               10|              14|            perfumery|\n",
      "|3aa071139cb16b67c...|                 44|                       276|                 1|            1000|               30|               18|              20|                  art|\n",
      "|96bd76ec8810374ed...|                 46|                       250|                 1|             154|               18|                9|              15|       sports leisure|\n",
      "|cef67bcfe19066a93...|                 27|                       261|                 1|             371|               26|                4|              26|                 baby|\n",
      "|9dc1a7de274444849...|                 37|                       402|                 4|             625|               20|               17|              13|           housewares|\n",
      "|41d3672d4792049fa...|                 60|                       745|                 1|             200|               38|                5|              11|  musical instruments|\n",
      "|732bd381ad09e530f...|                 56|                      1272|                 4|           18350|               70|               24|              44|           cool stuff|\n",
      "|2548af3e6e77a690c...|                 56|                       184|                 2|             900|               40|                8|              40|      furniture decor|\n",
      "|37cc742be07708b53...|                 57|                       163|                 1|             400|               27|               13|              17|      home appliances|\n",
      "|8c92109888e8cdf9d...|                 36|                      1156|                 1|             600|               17|               10|              12|                 toys|\n",
      "|14aa47b7fe5c25522...|                 54|                       630|                 1|            1100|               16|               10|              16|       bed bath table|\n",
      "|03b63c5fc16691530...|                 49|                       728|                 4|            7150|               50|               19|              45|                 baby|\n",
      "|cf55509ea8edaaac1...|                 43|                      1827|                 3|             250|               17|                7|              17|  musical instruments|\n",
      "|7bb6f29c2be577161...|                 51|                      2083|                 2|             600|               68|               11|              13|      furniture decor|\n",
      "|eb31436580a610f20...|                 59|                      1602|                 4|             200|               17|                7|              17| construction tool...|\n",
      "|3bb7f144022e67327...|                 22|                      3021|                 1|             800|               16|                2|              11|       sports leisure|\n",
      "|6a2fb4dd53d2cdb88...|                 39|                       346|                 2|             400|               27|                5|              20|            perfumery|\n",
      "|a1b71017a84f92fd8...|                 59|                       636|                 1|             900|               40|               15|              20| computers accesso...|\n",
      "|a0736b92e52f6cead...|                 56|                       296|                 2|            1700|              100|                7|              15|      furniture decor|\n",
      "|f53103a77d9cf245e...|                 52|                       206|                 1|             500|               16|               10|              16|       bed bath table|\n",
      "+--------------------+-------------------+--------------------------+------------------+----------------+-----------------+-----------------+----------------+---------------------+\n",
      "only showing top 20 rows\n",
      "\n"
     ]
    }
   ],
   "source": [
    "# left join between the 'product_df_uncleaned' DataFrame and 'product_category_translation_df'\n",
    "product_joined_df= product_df_uncleaned.join(product_category_translation_df, \"Product_category_name\", \"left\")\n",
    "\n",
    "# Drop \"product_category_name\" will be removed from the DataFrame.\n",
    "product_df = product_joined_df.drop(\"product_category_name\")\n",
    "\n",
    "# Rename the \"product_category_name_english\" column to \"product_category_name\"\n",
    "product_df = product_df.withColumnRenamed(\"product_category_name_english\", \"product_category_name\")\n",
    "\n",
    "# Replace underscores with spaces in the \"product_category_name\" column\n",
    "product_df = product_df.withColumn(\"product_category_name\", f.regexp_replace(f.col(\"product_category_name\"), \"_\", \" \"))\n",
    "\n",
    "# Show the 'product_df' DataFrame with the dropped and renamed columns.\n",
    "product_df.show()"
   ]
  },
  {
   "cell_type": "markdown",
   "metadata": {},
   "source": [
    "### Defining 0 for not_defined payment"
   ]
  },
  {
   "cell_type": "code",
   "execution_count": 7,
   "metadata": {},
   "outputs": [],
   "source": [
    "# Set payment_installment to 0 where payment_type is \"not_defined\"\n",
    "order_payment_df = order_payment_df.withColumn(\"Payment_installments\",\n",
    "                                   f.when(f.col(\"Payment_type\") == \"not_defined\", 0)\n",
    "                                   .otherwise(f.col(\"Payment_installments\")))\n"
   ]
  },
  {
   "cell_type": "markdown",
   "metadata": {},
   "source": [
    "### Additional cleaning"
   ]
  },
  {
   "cell_type": "code",
   "execution_count": 8,
   "metadata": {},
   "outputs": [],
   "source": [
    "reviews_df=reviews_df.withColumn(\"review_score\", reviews_df[\"review_score\"].cast(\"int\"))"
   ]
  },
  {
   "cell_type": "code",
   "execution_count": 9,
   "metadata": {},
   "outputs": [
    {
     "name": "stdout",
     "output_type": "stream",
     "text": [
      "+----+--------------------+--------------------+------------+--------------------+----------------------+--------------------+-----------------------+\n",
      "|s_no|           review_id|            order_id|review_score|review_comment_title|review_comment_message|review_creation_date|review_answer_timestamp|\n",
      "+----+--------------------+--------------------+------------+--------------------+----------------------+--------------------+-----------------------+\n",
      "|   0|7bc2406110b926393...|73fc7af87114b3971...|           4|          no comment|            no comment| 2018-01-18 00:00:00|    2018-01-18 21:46:59|\n",
      "|   1|80e641a11e56f04c1...|a548910a1c6147796...|           5|          no comment|            no comment| 2018-03-10 00:00:00|    2018-03-11 03:05:13|\n",
      "|   2|228ce5500dc1d8e02...|f9e4b658b201a9f2e...|           5|          no comment|            no comment| 2018-02-17 00:00:00|    2018-02-18 14:36:24|\n",
      "|   3|e64fb393e7b32834b...|658677c97b385a9be...|           5|          no comment|  I received it wel...| 2017-04-21 00:00:00|    2017-04-21 22:02:06|\n",
      "|   4|f7c4243c7fe1938f1...|8e6bfb81e283fa7e4...|           5|          no comment|  Congratulations L...| 2018-03-01 00:00:00|    2018-03-02 10:26:53|\n",
      "|   5|15197aa66ff4d0650...|b18dcdf73be663668...|           1|          no comment|            no comment| 2018-04-13 00:00:00|    2018-04-16 00:39:37|\n",
      "|   6|07f9bee5d1b850860...|e48aa0d2dcec3a2e8...|           5|          no comment|            no comment| 2017-07-16 00:00:00|    2017-07-18 19:30:34|\n",
      "|   7|7c6400515c67679fb...|c31a859e34e3adac2...|           5|          no comment|            no comment| 2018-08-14 00:00:00|    2018-08-14 21:36:06|\n",
      "|   8|a3f6f7f6f433de0ae...|9c214ac970e842735...|           5|          no comment|            no comment| 2017-05-17 00:00:00|    2017-05-18 12:05:37|\n",
      "|   9|8670d52e15e00043a...|b9bf720beb4ab3728...|           4|         I recommend|  efficient device....| 2018-05-22 00:00:00|    2018-05-23 16:45:47|\n",
      "|  10|c9cfd2d5ab5911836...|cdf9aa68e72324eeb...|           5|          no comment|            no comment| 2017-12-23 00:00:00|    2017-12-26 14:36:03|\n",
      "|  11|96052551d87e5f62e...|3d374c9e46530bb5e...|           5|          no comment|            no comment| 2017-12-19 00:00:00|    2017-12-20 10:25:22|\n",
      "|  12|4b49719c8a200003f...|9d6f15f95d01e79bd...|           4|          no comment|  But a little slow...| 2018-02-16 00:00:00|    2018-02-20 10:52:22|\n",
      "|  13|23f75a37effc35d9a...|2eaf8e099d871cd5c...|           4|          no comment|            no comment| 2018-03-28 00:00:00|    2018-03-30 15:10:55|\n",
      "|  14|9a0abbb668bafb95a...|d7bd0e4afdf94846e...|           3|          no comment|            no comment| 2017-04-30 00:00:00|    2017-05-03 00:02:22|\n",
      "|  15|3948b09f7c818e2d8...|e51478e7e277a8374...|           5|    highly recommend|  Reliable seller, ...| 2018-05-23 00:00:00|    2018-05-24 03:00:01|\n",
      "|  16|9314d6f9799f5bfba...|0dacf04c5ad59fd5a...|           2|          no comment|  I WOULD LIKE TO K...| 2018-01-18 00:00:00|    2018-01-20 21:25:45|\n",
      "|  17|8e15a274d95600fa1...|ff1581e08b3011021...|           5|          no comment|            no comment| 2018-03-24 00:00:00|    2018-03-26 15:58:32|\n",
      "|  18|fdbdb2629a7cde0f6...|70a752414a13d09cc...|           3|          no comment|            no comment| 2017-09-29 00:00:00|    2017-10-02 01:12:49|\n",
      "|  19|373cbeecea8286a2b...|583174fbe37d3d5f0...|           1|My product did no...|              Terrible| 2018-08-15 00:00:00|    2018-08-15 04:10:37|\n",
      "+----+--------------------+--------------------+------------+--------------------+----------------------+--------------------+-----------------------+\n",
      "only showing top 20 rows\n",
      "\n"
     ]
    }
   ],
   "source": [
    "# Replace 'reviews_df' with your actual DataFrame name\n",
    "reviews_df = reviews_df.withColumn(\"review_comment_title\", f.coalesce(f.col(\"review_comment_title\"), f.lit(\"no comment\")))\n",
    "reviews_df = reviews_df.withColumn(\"review_comment_message\", f.coalesce(f.col(\"review_comment_message\"), f.lit(\"no comment\")))\n",
    "\n",
    "# Show the updated DataFrame\n",
    "reviews_df.show()"
   ]
  },
  {
   "cell_type": "code",
   "execution_count": 10,
   "metadata": {},
   "outputs": [
    {
     "name": "stderr",
     "output_type": "stream",
     "text": [
      "                                                                                \r"
     ]
    },
    {
     "data": {
      "text/plain": [
       "96515"
      ]
     },
     "execution_count": 10,
     "metadata": {},
     "output_type": "execute_result"
    }
   ],
   "source": [
    "reviews_df =reviews_df.na.drop()\n",
    "reviews_df.count()"
   ]
  },
  {
   "cell_type": "code",
   "execution_count": 19,
   "metadata": {},
   "outputs": [
    {
     "name": "stdout",
     "output_type": "stream",
     "text": [
      "+------------+\n",
      "|review_score|\n",
      "+------------+\n",
      "|           1|\n",
      "|           3|\n",
      "|           5|\n",
      "|           4|\n",
      "|           2|\n",
      "+------------+\n",
      "\n"
     ]
    }
   ],
   "source": [
    "reviews_df.select(\"review_score\").distinct().show()"
   ]
  },
  {
   "cell_type": "code",
   "execution_count": 12,
   "metadata": {},
   "outputs": [
    {
     "name": "stdout",
     "output_type": "stream",
     "text": [
      "+----+--------------------+--------------------+------------+--------------------+----------------------+--------------------+-----------------------+\n",
      "|s_no|           review_id|            order_id|review_score|review_comment_title|review_comment_message|review_creation_date|review_answer_timestamp|\n",
      "+----+--------------------+--------------------+------------+--------------------+----------------------+--------------------+-----------------------+\n",
      "|   0|7bc2406110b926393...|73fc7af87114b3971...|           4|          no comment|            no comment| 2018-01-18 00:00:00|    2018-01-18 21:46:59|\n",
      "|   1|80e641a11e56f04c1...|a548910a1c6147796...|           5|          no comment|            no comment| 2018-03-10 00:00:00|    2018-03-11 03:05:13|\n",
      "|   2|228ce5500dc1d8e02...|f9e4b658b201a9f2e...|           5|          no comment|            no comment| 2018-02-17 00:00:00|    2018-02-18 14:36:24|\n",
      "|   3|e64fb393e7b32834b...|658677c97b385a9be...|           5|          no comment|  I received it wel...| 2017-04-21 00:00:00|    2017-04-21 22:02:06|\n",
      "|   4|f7c4243c7fe1938f1...|8e6bfb81e283fa7e4...|           5|          no comment|  Congratulations L...| 2018-03-01 00:00:00|    2018-03-02 10:26:53|\n",
      "|   5|15197aa66ff4d0650...|b18dcdf73be663668...|           1|          no comment|            no comment| 2018-04-13 00:00:00|    2018-04-16 00:39:37|\n",
      "|   6|07f9bee5d1b850860...|e48aa0d2dcec3a2e8...|           5|          no comment|            no comment| 2017-07-16 00:00:00|    2017-07-18 19:30:34|\n",
      "|   7|7c6400515c67679fb...|c31a859e34e3adac2...|           5|          no comment|            no comment| 2018-08-14 00:00:00|    2018-08-14 21:36:06|\n",
      "|   8|a3f6f7f6f433de0ae...|9c214ac970e842735...|           5|          no comment|            no comment| 2017-05-17 00:00:00|    2017-05-18 12:05:37|\n",
      "|   9|8670d52e15e00043a...|b9bf720beb4ab3728...|           4|         I recommend|  efficient device....| 2018-05-22 00:00:00|    2018-05-23 16:45:47|\n",
      "|  10|c9cfd2d5ab5911836...|cdf9aa68e72324eeb...|           5|          no comment|            no comment| 2017-12-23 00:00:00|    2017-12-26 14:36:03|\n",
      "|  11|96052551d87e5f62e...|3d374c9e46530bb5e...|           5|          no comment|            no comment| 2017-12-19 00:00:00|    2017-12-20 10:25:22|\n",
      "|  12|4b49719c8a200003f...|9d6f15f95d01e79bd...|           4|          no comment|  But a little slow...| 2018-02-16 00:00:00|    2018-02-20 10:52:22|\n",
      "|  13|23f75a37effc35d9a...|2eaf8e099d871cd5c...|           4|          no comment|            no comment| 2018-03-28 00:00:00|    2018-03-30 15:10:55|\n",
      "|  14|9a0abbb668bafb95a...|d7bd0e4afdf94846e...|           3|          no comment|            no comment| 2017-04-30 00:00:00|    2017-05-03 00:02:22|\n",
      "|  15|3948b09f7c818e2d8...|e51478e7e277a8374...|           5|    highly recommend|  Reliable seller, ...| 2018-05-23 00:00:00|    2018-05-24 03:00:01|\n",
      "|  16|9314d6f9799f5bfba...|0dacf04c5ad59fd5a...|           2|          no comment|  I WOULD LIKE TO K...| 2018-01-18 00:00:00|    2018-01-20 21:25:45|\n",
      "|  17|8e15a274d95600fa1...|ff1581e08b3011021...|           5|          no comment|            no comment| 2018-03-24 00:00:00|    2018-03-26 15:58:32|\n",
      "|  18|fdbdb2629a7cde0f6...|70a752414a13d09cc...|           3|          no comment|            no comment| 2017-09-29 00:00:00|    2017-10-02 01:12:49|\n",
      "|  19|373cbeecea8286a2b...|583174fbe37d3d5f0...|           1|My product did no...|              Terrible| 2018-08-15 00:00:00|    2018-08-15 04:10:37|\n",
      "+----+--------------------+--------------------+------------+--------------------+----------------------+--------------------+-----------------------+\n",
      "only showing top 20 rows\n",
      "\n"
     ]
    }
   ],
   "source": [
    "reviews_df.show()"
   ]
  },
  {
   "cell_type": "code",
   "execution_count": 13,
   "metadata": {},
   "outputs": [
    {
     "name": "stdout",
     "output_type": "stream",
     "text": [
      "+--------------------+--------------------+------------+--------------------+----------------------+--------------------+-----------------------+\n",
      "|           review_id|            order_id|review_score|review_comment_title|review_comment_message|review_creation_date|review_answer_timestamp|\n",
      "+--------------------+--------------------+------------+--------------------+----------------------+--------------------+-----------------------+\n",
      "|7bc2406110b926393...|73fc7af87114b3971...|           4|          no comment|            no comment| 2018-01-18 00:00:00|    2018-01-18 21:46:59|\n",
      "|80e641a11e56f04c1...|a548910a1c6147796...|           5|          no comment|            no comment| 2018-03-10 00:00:00|    2018-03-11 03:05:13|\n",
      "|228ce5500dc1d8e02...|f9e4b658b201a9f2e...|           5|          no comment|            no comment| 2018-02-17 00:00:00|    2018-02-18 14:36:24|\n",
      "|e64fb393e7b32834b...|658677c97b385a9be...|           5|          no comment|  I received it wel...| 2017-04-21 00:00:00|    2017-04-21 22:02:06|\n",
      "|f7c4243c7fe1938f1...|8e6bfb81e283fa7e4...|           5|          no comment|  Congratulations L...| 2018-03-01 00:00:00|    2018-03-02 10:26:53|\n",
      "|15197aa66ff4d0650...|b18dcdf73be663668...|           1|          no comment|            no comment| 2018-04-13 00:00:00|    2018-04-16 00:39:37|\n",
      "|07f9bee5d1b850860...|e48aa0d2dcec3a2e8...|           5|          no comment|            no comment| 2017-07-16 00:00:00|    2017-07-18 19:30:34|\n",
      "|7c6400515c67679fb...|c31a859e34e3adac2...|           5|          no comment|            no comment| 2018-08-14 00:00:00|    2018-08-14 21:36:06|\n",
      "|a3f6f7f6f433de0ae...|9c214ac970e842735...|           5|          no comment|            no comment| 2017-05-17 00:00:00|    2017-05-18 12:05:37|\n",
      "|8670d52e15e00043a...|b9bf720beb4ab3728...|           4|         I recommend|  efficient device....| 2018-05-22 00:00:00|    2018-05-23 16:45:47|\n",
      "|c9cfd2d5ab5911836...|cdf9aa68e72324eeb...|           5|          no comment|            no comment| 2017-12-23 00:00:00|    2017-12-26 14:36:03|\n",
      "|96052551d87e5f62e...|3d374c9e46530bb5e...|           5|          no comment|            no comment| 2017-12-19 00:00:00|    2017-12-20 10:25:22|\n",
      "|4b49719c8a200003f...|9d6f15f95d01e79bd...|           4|          no comment|  But a little slow...| 2018-02-16 00:00:00|    2018-02-20 10:52:22|\n",
      "|23f75a37effc35d9a...|2eaf8e099d871cd5c...|           4|          no comment|            no comment| 2018-03-28 00:00:00|    2018-03-30 15:10:55|\n",
      "|9a0abbb668bafb95a...|d7bd0e4afdf94846e...|           3|          no comment|            no comment| 2017-04-30 00:00:00|    2017-05-03 00:02:22|\n",
      "|3948b09f7c818e2d8...|e51478e7e277a8374...|           5|    highly recommend|  Reliable seller, ...| 2018-05-23 00:00:00|    2018-05-24 03:00:01|\n",
      "|9314d6f9799f5bfba...|0dacf04c5ad59fd5a...|           2|          no comment|  I WOULD LIKE TO K...| 2018-01-18 00:00:00|    2018-01-20 21:25:45|\n",
      "|8e15a274d95600fa1...|ff1581e08b3011021...|           5|          no comment|            no comment| 2018-03-24 00:00:00|    2018-03-26 15:58:32|\n",
      "|fdbdb2629a7cde0f6...|70a752414a13d09cc...|           3|          no comment|            no comment| 2017-09-29 00:00:00|    2017-10-02 01:12:49|\n",
      "|373cbeecea8286a2b...|583174fbe37d3d5f0...|           1|My product did no...|              Terrible| 2018-08-15 00:00:00|    2018-08-15 04:10:37|\n",
      "+--------------------+--------------------+------------+--------------------+----------------------+--------------------+-----------------------+\n",
      "only showing top 20 rows\n",
      "\n"
     ]
    }
   ],
   "source": [
    "reviews_df=reviews_df.drop(\"s_no\")\n",
    "reviews_df.show()\n"
   ]
  },
  {
   "cell_type": "code",
   "execution_count": 14,
   "metadata": {},
   "outputs": [
    {
     "name": "stdout",
     "output_type": "stream",
     "text": [
      "+--------------------+--------------------+------------+--------------------+----------------------+--------------------+-----------------------+\n",
      "|           review_id|            order_id|review_score|review_comment_title|review_comment_message|review_creation_date|review_answer_timestamp|\n",
      "+--------------------+--------------------+------------+--------------------+----------------------+--------------------+-----------------------+\n",
      "|7bc2406110b926393...|73fc7af87114b3971...|           4|          no comment|            no comment| 2018-01-18 00:00:00|    2018-01-18 21:46:59|\n",
      "|80e641a11e56f04c1...|a548910a1c6147796...|           5|          no comment|            no comment| 2018-03-10 00:00:00|    2018-03-11 03:05:13|\n",
      "|228ce5500dc1d8e02...|f9e4b658b201a9f2e...|           5|          no comment|            no comment| 2018-02-17 00:00:00|    2018-02-18 14:36:24|\n",
      "|e64fb393e7b32834b...|658677c97b385a9be...|           5|          no comment|  I received it wel...| 2017-04-21 00:00:00|    2017-04-21 22:02:06|\n",
      "|f7c4243c7fe1938f1...|8e6bfb81e283fa7e4...|           5|          no comment|  Congratulations L...| 2018-03-01 00:00:00|    2018-03-02 10:26:53|\n",
      "|15197aa66ff4d0650...|b18dcdf73be663668...|           1|          no comment|            no comment| 2018-04-13 00:00:00|    2018-04-16 00:39:37|\n",
      "|07f9bee5d1b850860...|e48aa0d2dcec3a2e8...|           5|          no comment|            no comment| 2017-07-16 00:00:00|    2017-07-18 19:30:34|\n",
      "|7c6400515c67679fb...|c31a859e34e3adac2...|           5|          no comment|            no comment| 2018-08-14 00:00:00|    2018-08-14 21:36:06|\n",
      "|a3f6f7f6f433de0ae...|9c214ac970e842735...|           5|          no comment|            no comment| 2017-05-17 00:00:00|    2017-05-18 12:05:37|\n",
      "|8670d52e15e00043a...|b9bf720beb4ab3728...|           4|         I recommend|  efficient device....| 2018-05-22 00:00:00|    2018-05-23 16:45:47|\n",
      "|c9cfd2d5ab5911836...|cdf9aa68e72324eeb...|           5|          no comment|            no comment| 2017-12-23 00:00:00|    2017-12-26 14:36:03|\n",
      "|96052551d87e5f62e...|3d374c9e46530bb5e...|           5|          no comment|            no comment| 2017-12-19 00:00:00|    2017-12-20 10:25:22|\n",
      "|4b49719c8a200003f...|9d6f15f95d01e79bd...|           4|          no comment|  But a little slow...| 2018-02-16 00:00:00|    2018-02-20 10:52:22|\n",
      "|23f75a37effc35d9a...|2eaf8e099d871cd5c...|           4|          no comment|            no comment| 2018-03-28 00:00:00|    2018-03-30 15:10:55|\n",
      "|9a0abbb668bafb95a...|d7bd0e4afdf94846e...|           3|          no comment|            no comment| 2017-04-30 00:00:00|    2017-05-03 00:02:22|\n",
      "|3948b09f7c818e2d8...|e51478e7e277a8374...|           5|    highly recommend|  Reliable seller, ...| 2018-05-23 00:00:00|    2018-05-24 03:00:01|\n",
      "|9314d6f9799f5bfba...|0dacf04c5ad59fd5a...|           2|          no comment|  I WOULD LIKE TO K...| 2018-01-18 00:00:00|    2018-01-20 21:25:45|\n",
      "|8e15a274d95600fa1...|ff1581e08b3011021...|           5|          no comment|            no comment| 2018-03-24 00:00:00|    2018-03-26 15:58:32|\n",
      "|fdbdb2629a7cde0f6...|70a752414a13d09cc...|           3|          no comment|            no comment| 2017-09-29 00:00:00|    2017-10-02 01:12:49|\n",
      "|373cbeecea8286a2b...|583174fbe37d3d5f0...|           1|My product did no...|              Terrible| 2018-08-15 00:00:00|    2018-08-15 04:10:37|\n",
      "+--------------------+--------------------+------------+--------------------+----------------------+--------------------+-----------------------+\n",
      "only showing top 20 rows\n",
      "\n"
     ]
    }
   ],
   "source": [
    "reviews_df.show()"
   ]
  },
  {
   "cell_type": "code",
   "execution_count": 18,
   "metadata": {},
   "outputs": [
    {
     "name": "stdout",
     "output_type": "stream",
     "text": [
      "root\n",
      " |-- review_id: string (nullable = true)\n",
      " |-- order_id: string (nullable = true)\n",
      " |-- review_score: integer (nullable = true)\n",
      " |-- review_comment_title: string (nullable = false)\n",
      " |-- review_comment_message: string (nullable = false)\n",
      " |-- review_creation_date: string (nullable = true)\n",
      " |-- review_answer_timestamp: string (nullable = true)\n",
      "\n"
     ]
    }
   ],
   "source": [
    "reviews_df.printSchema()"
   ]
  },
  {
   "cell_type": "markdown",
   "metadata": {},
   "source": [
    "### Storing in parquet file"
   ]
  },
  {
   "cell_type": "code",
   "execution_count": 16,
   "metadata": {},
   "outputs": [
    {
     "name": "stderr",
     "output_type": "stream",
     "text": [
      "                                                                                \r"
     ]
    }
   ],
   "source": [
    "customer_df.coalesce(1).write.parquet(\"data_cleaned/customer.parquet\",compression =\"snappy\", mode=\"overwrite\") \n",
    "order_item_df.coalesce(1).write.parquet(\"./data_cleaned/order_item.parquet\",compression =\"snappy\", mode=\"overwrite\")\n",
    "order_payment_df.coalesce(1).write.parquet(\"./data_cleaned/order_payment.parquet\",compression =\"snappy\", mode=\"overwrite\")\n",
    "seller_df.coalesce(1).write.parquet(\"./data_cleaned/seller.parquet\",compression =\"snappy\", mode=\"overwrite\")\n",
    "product_df.coalesce(1).write.parquet(\"./data_cleaned/product.parquet\",compression =\"snappy\", mode=\"overwrite\")\n",
    "orders_df.coalesce(1).write.parquet(\"./data_cleaned/orders.parquet\",compression =\"snappy\", mode=\"overwrite\")\n",
    "reviews_df.coalesce(1).write.parquet(\"./data_cleaned/reviews.parquet\",compression =\"snappy\", mode=\"overwrite\")"
   ]
  },
  {
   "cell_type": "markdown",
   "metadata": {},
   "source": [
    "### Writing the clean Dataframes to Postgres"
   ]
  },
  {
   "cell_type": "code",
   "execution_count": 17,
   "metadata": {},
   "outputs": [
    {
     "name": "stderr",
     "output_type": "stream",
     "text": [
      "                                                                                \r"
     ]
    }
   ],
   "source": [
    "customer_df.write.format('jdbc').options(url='jdbc:postgresql://localhost:5432/Cleaned_Data',\n",
    "                                driver = 'org.postgresql.Driver',\n",
    "                                dbtable = 'customer', \n",
    "                                user='postgres', \n",
    "                                password='postgres').mode('overwrite').save()\n",
    "\n",
    "order_item_df.write.format('jdbc').options(url='jdbc:postgresql://localhost:5432/Cleaned_Data',\n",
    "                                driver = 'org.postgresql.Driver',\n",
    "                                dbtable = 'order_item', \n",
    "                                user='postgres', \n",
    "                                password='postgres').mode('overwrite').save()\n",
    "\n",
    "order_payment_df.write.format('jdbc').options(url='jdbc:postgresql://localhost:5432/Cleaned_Data',\n",
    "                                driver = 'org.postgresql.Driver',\n",
    "                                dbtable = 'order_payment', \n",
    "                                user='postgres', \n",
    "                                password='postgres').mode('overwrite').save()\n",
    "\n",
    "seller_df.write.format('jdbc').options(url='jdbc:postgresql://localhost:5432/Cleaned_Data',\n",
    "                                driver = 'org.postgresql.Driver',\n",
    "                                dbtable = 'seller', \n",
    "                                user='postgres', \n",
    "                                password='postgres').mode('overwrite').save()\n",
    "\n",
    "product_df.write.format('jdbc').options(url='jdbc:postgresql://localhost:5432/Cleaned_Data',\n",
    "                                driver = 'org.postgresql.Driver',\n",
    "                                dbtable = 'product', \n",
    "                                user='postgres', \n",
    "                                password='postgres').mode('overwrite').save()\n",
    "\n",
    "orders_df.write.format('jdbc').options(url='jdbc:postgresql://localhost:5432/Cleaned_Data',\n",
    "                                driver = 'org.postgresql.Driver',\n",
    "                                dbtable = 'orders', \n",
    "                                user='postgres', \n",
    "                                password='postgres').mode('overwrite').save()\n",
    "\n",
    "reviews_df.write.format('jdbc').options(url='jdbc:postgresql://localhost:5432/Cleaned_Data',\n",
    "                                driver = 'org.postgresql.Driver',\n",
    "                                dbtable = 'reviews', \n",
    "                                user='postgres', \n",
    "                                password='postgres').mode('overwrite').save()"
   ]
  }
 ],
 "metadata": {
  "kernelspec": {
   "display_name": "venv_1",
   "language": "python",
   "name": "venv_1"
  },
  "language_info": {
   "codemirror_mode": {
    "name": "ipython",
    "version": 3
   },
   "file_extension": ".py",
   "mimetype": "text/x-python",
   "name": "python",
   "nbconvert_exporter": "python",
   "pygments_lexer": "ipython3",
   "version": "3.10.12"
  },
  "orig_nbformat": 4
 },
 "nbformat": 4,
 "nbformat_minor": 2
}
